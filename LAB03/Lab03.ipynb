{
 "cells": [
  {
   "cell_type": "markdown",
   "metadata": {},
   "source": [
    "## Laboratorio 3\n",
    "\n",
    "###### Maria Isabel Ortiz Naranjo\n",
    "###### Luis Alejandro Urbina\n",
    "###### Catedratico: Jorge Yass \n",
    "###### Catedra: Security Data Science"
   ]
  },
  {
   "cell_type": "code",
   "execution_count": 31,
   "metadata": {},
   "outputs": [],
   "source": [
    "import pefile\n",
    "import os.path\n",
    "import pandas as pd\n"
   ]
  },
  {
   "cell_type": "code",
   "execution_count": 28,
   "metadata": {},
   "outputs": [],
   "source": [
    "pe = pefile.PE('1F2EB7B090018D975E6D9B40868C94CA')\n"
   ]
  },
  {
   "cell_type": "code",
   "execution_count": 46,
   "metadata": {},
   "outputs": [
    {
     "name": "stdout",
     "output_type": "stream",
     "text": [
      "b'KERNEL32.DLL'\n",
      "\t b'LoadLibraryA'\n",
      "\t b'ExitProcess'\n",
      "\t b'GetProcAddress'\n",
      "\t b'VirtualProtect'\n",
      "b'MSVCRT.dll'\n",
      "\t b'atol'\n",
      "b'USER32.dll'\n",
      "\t b'LoadStringA'\n",
      "b'WS2_32.dll'\n",
      "\t b'send'\n",
      "TimeDateStamp : Fri Jan 15 17:20:56 2010 UTC\n"
     ]
    }
   ],
   "source": [
    "for section in pe.sections:\n",
    "    var = section.Name, hex(section.VirtualAddress), hex(section.Misc_VirtualSize), section.SizeOfRawData\n",
    "\n",
    "for entry in pe.DIRECTORY_ENTRY_IMPORT:\n",
    "    var2 = entry.dll\n",
    "    print (var2)\n",
    "    for function in entry.imports:\n",
    "        var3 = function.name\n",
    "        print ('\\t', var3)\n",
    "\n",
    "#listamalware = os.listdir(path)\n",
    "print(\"TimeDateStamp : \" + pe.FILE_HEADER.dump_dict()['TimeDateStamp']['Value'].split('[')[1][:-1])\n",
    "\n",
    "\n"
   ]
  }
 ],
 "metadata": {
  "interpreter": {
   "hash": "916dbcbb3f70747c44a77c7bcd40155683ae19c65e1c03b4aa3499c5328201f1"
  },
  "kernelspec": {
   "display_name": "Python 3.8.10 64-bit",
   "language": "python",
   "name": "python3"
  },
  "language_info": {
   "codemirror_mode": {
    "name": "ipython",
    "version": 3
   },
   "file_extension": ".py",
   "mimetype": "text/x-python",
   "name": "python",
   "nbconvert_exporter": "python",
   "pygments_lexer": "ipython3",
   "version": "3.8.10"
  },
  "orig_nbformat": 4
 },
 "nbformat": 4,
 "nbformat_minor": 2
}
